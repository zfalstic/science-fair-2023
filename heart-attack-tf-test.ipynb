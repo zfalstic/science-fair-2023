{
 "cells": [
  {
   "cell_type": "code",
   "execution_count": null,
   "metadata": {},
   "outputs": [],
   "source": [
    "import os\n",
    "import numpy as np\n",
    "import pandas as pd\n",
    "import matplotlib.pyplot as plt\n",
    "import plotly.express as px\n",
    "import itertools\n",
    "\n",
    "import tensorflow as tf\n",
    "from sklearn.model_selection import train_test_split\n",
    "from sklearn.preprocessing import StandardScaler\n",
    "from sklearn.metrics import accuracy_score, precision_score, recall_score, f1_score"
   ]
  },
  {
   "cell_type": "code",
   "execution_count": null,
   "metadata": {},
   "outputs": [],
   "source": [
    "df = pd.read_csv('./heart.csv')\n",
    "df"
   ]
  },
  {
   "cell_type": "code",
   "execution_count": null,
   "metadata": {},
   "outputs": [],
   "source": [
    "df.isnull().sum()"
   ]
  },
  {
   "cell_type": "code",
   "execution_count": null,
   "metadata": {},
   "outputs": [],
   "source": [
    "df[df.duplicated()]"
   ]
  },
  {
   "cell_type": "code",
   "execution_count": null,
   "metadata": {},
   "outputs": [],
   "source": [
    "df.drop_duplicates(keep='first', inplace=True)\n",
    "df[df.duplicated()]"
   ]
  },
  {
   "cell_type": "code",
   "execution_count": null,
   "metadata": {},
   "outputs": [],
   "source": [
    "df.reset_index(drop=True)\n",
    "df"
   ]
  },
  {
   "cell_type": "code",
   "execution_count": null,
   "metadata": {},
   "outputs": [],
   "source": [
    "df.describe()"
   ]
  },
  {
   "cell_type": "code",
   "execution_count": null,
   "metadata": {},
   "outputs": [],
   "source": [
    "df_corr_mat = df.corr()\n",
    "px.imshow(df_corr_mat)\n"
   ]
  },
  {
   "cell_type": "code",
   "execution_count": null,
   "metadata": {},
   "outputs": [],
   "source": [
    "X = df.iloc[:, :-1].values\n",
    "y = df.iloc[:, -1].values"
   ]
  },
  {
   "cell_type": "code",
   "execution_count": null,
   "metadata": {},
   "outputs": [],
   "source": [
    "X"
   ]
  },
  {
   "cell_type": "code",
   "execution_count": null,
   "metadata": {},
   "outputs": [],
   "source": [
    "list(y)"
   ]
  },
  {
   "cell_type": "code",
   "execution_count": null,
   "metadata": {},
   "outputs": [],
   "source": [
    "X_train, X_test, y_train, y_test = train_test_split(X, y, test_size=0.2, random_state=42)"
   ]
  },
  {
   "cell_type": "code",
   "execution_count": null,
   "metadata": {},
   "outputs": [],
   "source": [
    "print(X_train.shape)\n",
    "print(X_test.shape)"
   ]
  },
  {
   "cell_type": "code",
   "execution_count": null,
   "metadata": {},
   "outputs": [],
   "source": [
    "print(y_train.shape)\n",
    "print(y_test.shape)"
   ]
  },
  {
   "cell_type": "code",
   "execution_count": null,
   "metadata": {},
   "outputs": [],
   "source": [
    "scaler = StandardScaler()\n",
    "X_train_scaled = scaler.fit_transform(X_train)\n",
    "X_test_scaled = scaler.transform(X_test)"
   ]
  },
  {
   "cell_type": "code",
   "execution_count": null,
   "metadata": {},
   "outputs": [],
   "source": [
    "all_models = []\n"
   ]
  },
  {
   "cell_type": "code",
   "execution_count": null,
   "metadata": {},
   "outputs": [],
   "source": [
    "def optimize(models: list,\n",
    "            X_train: np.array,\n",
    "            y_train: np.array,\n",
    "            X_test: np.array,\n",
    "            y_test: np.array,\n",
    "            epochs: int = 50,\n",
    "            verbose: int = 0) -> pd.DataFrame:\n",
    "  \n",
    "  # We'll store the results here\n",
    "  results = []\n",
    "  \n",
    "  def train(model: tf.keras.Sequential) -> dict:\n",
    "    # Change this however you want \n",
    "    # We're not optimizing this part today\n",
    "    model.compile(\n",
    "      loss=tf.keras.losses.binary_crossentropy,\n",
    "      optimizer=tf.keras.optimizers.Adam(),\n",
    "      metrics=[\n",
    "        tf.keras.metrics.BinaryAccuracy(name='accuracy')\n",
    "      ]\n",
    "    )\n",
    "    \n",
    "    # Train the model\n",
    "    model.fit(\n",
    "      X_train,\n",
    "      y_train,\n",
    "      epochs=epochs,\n",
    "      verbose=verbose\n",
    "    )\n",
    "    \n",
    "    # Make predictions on the test set\n",
    "    preds = model.predict(X_test)\n",
    "    prediction_classes = [1 if prob > 0.5 else 0 for prob in np.ravel(preds)]\n",
    "    \n",
    "    # Return evaluation metrics on the test set\n",
    "    return {\n",
    "      'model_name': model.name,\n",
    "      'test_accuracy': accuracy_score(y_test, prediction_classes),\n",
    "      'test_precision': precision_score(y_test, prediction_classes),\n",
    "      'test_recall': recall_score(y_test, prediction_classes),\n",
    "      'test_f1': f1_score(y_test, prediction_classes)\n",
    "    }\n",
    "  \n",
    "  # Train every model and save results\n",
    "  index = 0\n",
    "  for model in models:\n",
    "    try:\n",
    "      print(model.name, end=' ... ')\n",
    "      res = train(model=model)\n",
    "      results.append(res)\n",
    "      model.save(os.path.join('.', 'models', f'{index}_{model.name}', ''))\n",
    "    except Exception as e:\n",
    "      print(f'{model.name} --> {str(e)}')\n",
    "    index += 1\n",
    "      \n",
    "  return pd.DataFrame(results)"
   ]
  },
  {
   "cell_type": "code",
   "execution_count": null,
   "metadata": {},
   "outputs": [],
   "source": [
    "optimization_results = optimize(\n",
    "    models=all_models,\n",
    "    X_train=X_train_scaled,\n",
    "    y_train=y_train,\n",
    "    X_test=X_test_scaled,\n",
    "    y_test=y_test\n",
    ")"
   ]
  },
  {
   "cell_type": "code",
   "execution_count": null,
   "metadata": {},
   "outputs": [],
   "source": [
    "test = tf.keras.models.load_model(os.path.join('.', 'models', '0dense16_dense16_dense16', ''))\n",
    "test_pred = test.predict(X_test)\n",
    "test_prediction_classes = [1 if prob > 0.5 else 0 for prob in np.ravel(test_pred)]\n",
    "\n",
    "curr_pred = all_models[0].predict(X_test)\n",
    "curr_prediction_classes = [1 if prob > 0.5 else 0 for prob in np.ravel(curr_pred)]\n",
    "print(precision_score(y_test, test_prediction_classes))\n",
    "print(precision_score(y_test, curr_prediction_classes))"
   ]
  },
  {
   "cell_type": "code",
   "execution_count": null,
   "metadata": {},
   "outputs": [],
   "source": [
    "type(optimization_results)"
   ]
  },
  {
   "cell_type": "code",
   "execution_count": null,
   "metadata": {},
   "outputs": [],
   "source": [
    "optimization_results.sort_values(by='test_precision', ascending=False)"
   ]
  },
  {
   "cell_type": "code",
   "execution_count": null,
   "metadata": {},
   "outputs": [],
   "source": [
    "optimization_results_precision = optimization_results.sort_values(by='test_precision', ascending=False)\n",
    "optimization_results_precision = optimization_results_precision.reset_index()\n",
    "optimization_results_precision"
   ]
  },
  {
   "cell_type": "code",
   "execution_count": null,
   "metadata": {},
   "outputs": [],
   "source": [
    "optimization_results_recall = optimization_results.sort_values(by='test_recall', ascending=False)\n",
    "optimization_results_recall = optimization_results_recall.reset_index()\n",
    "optimization_results_recall"
   ]
  },
  {
   "cell_type": "code",
   "execution_count": null,
   "metadata": {},
   "outputs": [],
   "source": [
    "optimization_results_accuracy = optimization_results.sort_values(by='test_accuracy', ascending=False)\n",
    "optimization_results_accuracy = optimization_results_accuracy.reset_index(drop=True)\n",
    "optimization_results_accuracy"
   ]
  },
  {
   "cell_type": "code",
   "execution_count": null,
   "metadata": {},
   "outputs": [],
   "source": [
    "plt.plot(optimization_results['test_precision'][:])\n",
    "plt.show()"
   ]
  },
  {
   "cell_type": "code",
   "execution_count": null,
   "metadata": {},
   "outputs": [],
   "source": [
    "plt.plot(optimization_results_precision['test_precision'])\n",
    "plt.show()\n",
    "\n",
    "print(optimization_results_precision['test_precision'].shape)"
   ]
  },
  {
   "cell_type": "code",
   "execution_count": null,
   "metadata": {},
   "outputs": [],
   "source": [
    "plt.plot(optimization_results_recall['test_recall'])\n",
    "plt.show()"
   ]
  }
 ],
 "metadata": {
  "kernelspec": {
   "display_name": "base",
   "language": "python",
   "name": "python3"
  },
  "language_info": {
   "codemirror_mode": {
    "name": "ipython",
    "version": 3
   },
   "file_extension": ".py",
   "mimetype": "text/x-python",
   "name": "python",
   "nbconvert_exporter": "python",
   "pygments_lexer": "ipython3",
   "version": "3.9.12 (main, Apr  4 2022, 05:22:27) [MSC v.1916 64 bit (AMD64)]"
  },
  "orig_nbformat": 4,
  "vscode": {
   "interpreter": {
    "hash": "c7ebb97214798ee22f9bab684bf9e3293df6e49a39c9d7b2a599c4570cf29403"
   }
  }
 },
 "nbformat": 4,
 "nbformat_minor": 2
}
